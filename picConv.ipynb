{
 "cells": [
  {
   "cell_type": "code",
   "execution_count": 1,
   "metadata": {},
   "outputs": [],
   "source": [
    "import os\n",
    "from PIL import Image"
   ]
  },
  {
   "cell_type": "code",
   "execution_count": 25,
   "metadata": {},
   "outputs": [],
   "source": [
    "def convert_jfif_to_jpg(directory):\n",
    "    for filename in os.listdir(directory):\n",
    "        \n",
    "        if filename.lower().endswith('.jfif'):\n",
    "            jfif_path = os.path.join(directory, filename)\n",
    "            jpg_path = os.path.splitext(jfif_path)[0] + '.jpg'         \n",
    "            with Image.open(jfif_path) as img:\n",
    "                img.save(jpg_path, 'JPEG')\n",
    "                os.remove(jfif_path)\n",
    "            \n",
    "            \n",
    "\n",
    "directory_path = 'data\\manyavar_data\\women\\saree'\n",
    "\n",
    "convert_jfif_to_jpg(directory_path)\n"
   ]
  },
  {
   "cell_type": "code",
   "execution_count": null,
   "metadata": {},
   "outputs": [],
   "source": []
  }
 ],
 "metadata": {
  "kernelspec": {
   "display_name": "Python 3",
   "language": "python",
   "name": "python3"
  },
  "language_info": {
   "codemirror_mode": {
    "name": "ipython",
    "version": 3
   },
   "file_extension": ".py",
   "mimetype": "text/x-python",
   "name": "python",
   "nbconvert_exporter": "python",
   "pygments_lexer": "ipython3",
   "version": "3.11.3"
  }
 },
 "nbformat": 4,
 "nbformat_minor": 2
}
